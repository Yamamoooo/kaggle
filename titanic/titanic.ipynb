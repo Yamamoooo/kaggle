{
 "cells": [
  {
   "cell_type": "markdown",
   "id": "409f8593",
   "metadata": {},
   "source": [
    "# Titanic Data Analysis"
   ]
  },
  {
   "cell_type": "markdown",
   "id": "ef0d7b43",
   "metadata": {},
   "source": [
    "# 準備"
   ]
  },
  {
   "cell_type": "markdown",
   "id": "b22bccf6",
   "metadata": {},
   "source": [
    "## 必要なライブラリをインポート"
   ]
  },
  {
   "cell_type": "code",
   "execution_count": 5,
   "id": "5fc99294",
   "metadata": {},
   "outputs": [],
   "source": [
    "import lightgbm as lgb\n",
    "import pandas as pd\n",
    "import os\n",
    "import numpy as np\n",
    "import matplotlib.pyplot as plt\n",
    "from sklearn.model_selection import train_test_split\n",
    "from sklearn.metrics import accuracy_score\n",
    "from sklearn.metrics import confusion_matrix, ConfusionMatrixDisplay"
   ]
  },
  {
   "cell_type": "markdown",
   "id": "970b5ffd",
   "metadata": {},
   "source": [
    "## 関数の定義"
   ]
  },
  {
   "cell_type": "code",
   "execution_count": 6,
   "id": "f7f544ab",
   "metadata": {},
   "outputs": [],
   "source": [
    "class analyzer:\n",
    "    def __init__(self, train_csv_file, test_csv_file, sep=\",\", engine=\"python\"):\n",
    "        self.train_df = pd.read_csv(train_csv_file, sep=sep, engine=engine)\n",
    "        self.test_df = pd.read_csv(test_csv_file, sep=sep, engine=engine)\n",
    "\n",
    "    def get_information(self):\n",
    "        print(self.train_df.info())\n",
    "        # print(self.train_df.describe())\n",
    "        print(\"先頭の5行を表示\")\n",
    "        print(self.train_df.head())\n",
    "        print(f\"train dataframeの形状を確認:{self.train_df.shape}\")\n",
    "        print(f\"test dataframeの形状を確認:{self.test_df.shape}\")\n",
    "        print(f\"indexの確認;{self.train_df.index}\")  # 表の縦軸\n",
    "        print(f\"カラムの確認:{self.train_df.columns}\")  # 表の横軸\n",
    "        print(f\"欠損値の確認:\\n{self.train_df.isnull().sum()}\")\n",
    "\n",
    "    def make_dataset(self, feature1, feature2, feature3, target):\n",
    "        x_train,y_train, id_train=self.train_df[[feature1,feature2]],self.train_df[target],self.train_df[feature3]\n",
    "        print(f\"x_train: {x_train.shape}, y_train: {y_train.shape}, id_train: {id_train.shape}\")\n",
    "        return x_train, y_train, id_train\n",
    "\n",
    "    def split_train_val(self, x_train, y_train, test_size=0.2, shuffle=True, stratify=None, random_state=0):\n",
    "        x_tr, x_va, y_tr, y_vr = train_test_split(x_train, y_train, test_size=test_size, shuffle=shuffle, stratify=stratify, random_state=random_state)\n",
    "        print(f\"x_tr: {x_tr.shape}, x_va: {x_va.shape}, y_tr: {y_tr.shape}, y_vr: {y_vr.shape}\")\n",
    "        return x_tr, x_va, y_tr, y_vr\n",
    "\n",
    "    def display_confusion_matrix(self, y_val=None, x_val_pred=None):\n",
    "        # 混同行列の作成\n",
    "        cm = confusion_matrix(y_val, x_val_pred)\n",
    "        # Confusion matrixの表示\n",
    "        disp = ConfusionMatrixDisplay(confusion_matrix=cm)\n",
    "        disp.plot(cmap=plt.cm.Reds)\n",
    "\n",
    "        # X軸ラベル、Y軸ラベル、タイトルの追加\n",
    "        plt.xlabel('Predicted')\n",
    "        plt.ylabel('Actual')\n",
    "        plt.title('Confusion Matrix')\n",
    "\n",
    "        # Confusion matrixの表示\n",
    "        plt.show()\n",
    "\n",
    "    def display_prediction(self, y_val=None, x_val=None, model=None):\n",
    "        if y_val is None or x_val is None or model is None:\n",
    "            print(\"y_val or x_val or model is None\")\n",
    "            return\n",
    "\n",
    "        y_val_pred = model.predict_proba(x_val)[:, 1]\n",
    "        # 確率値をヒストグラムで表示\n",
    "        fig = plt.figure(figsize=(10, 8))\n",
    "        # 検証データ\n",
    "        plt.title(\"Validation data\")\n",
    "        plt.hist(y_val_pred[y_val==1], bins=10, alpha=0.5, label=\"1\")\n",
    "        plt.hist(y_val_pred[y_val==0], bins=10, alpha=0.5, label=\"0\")\n",
    "        plt.grid()\n",
    "        plt.legend()\n",
    "        plt.show()\n",
    "\n",
    "    def make_test_dataset(self,feature1, feature2, feature3):\n",
    "        x_test = self.test_df[[feature1, feature2]]\n",
    "        id_test = self.test_df[feature3]\n",
    "        print(f\"x_test: {x_test.shape}, id_test: {id_test.shape}\")\n",
    "        return x_test, id_test\n",
    "\n",
    "    def make_submission_file(self,y_test_pred=None, passenger_ids=None):\n",
    "        df_submit=pd.DataFrame({\"PassengerID\": passenger_ids, \"Survived\": y_test_pred})\n",
    "        display(df_submit.head())\n",
    "        if os.path.exists(\"data\") is False:\n",
    "            os.makedirs(\"data\")\n",
    "        df_submit.to_csv(\"data/submission.csv\", index=False)"
   ]
  },
  {
   "cell_type": "markdown",
   "id": "885dcf41",
   "metadata": {},
   "source": [
    "## データ表示"
   ]
  },
  {
   "cell_type": "code",
   "execution_count": 7,
   "id": "b069e916",
   "metadata": {},
   "outputs": [
    {
     "name": "stdout",
     "output_type": "stream",
     "text": [
      "<class 'pandas.core.frame.DataFrame'>\n",
      "RangeIndex: 891 entries, 0 to 890\n",
      "Data columns (total 12 columns):\n",
      " #   Column       Non-Null Count  Dtype  \n",
      "---  ------       --------------  -----  \n",
      " 0   PassengerId  891 non-null    int64  \n",
      " 1   Survived     891 non-null    int64  \n",
      " 2   Pclass       891 non-null    int64  \n",
      " 3   Name         891 non-null    object \n",
      " 4   Sex          891 non-null    object \n",
      " 5   Age          714 non-null    float64\n",
      " 6   SibSp        891 non-null    int64  \n",
      " 7   Parch        891 non-null    int64  \n",
      " 8   Ticket       891 non-null    object \n",
      " 9   Fare         891 non-null    float64\n",
      " 10  Cabin        204 non-null    object \n",
      " 11  Embarked     889 non-null    object \n",
      "dtypes: float64(2), int64(5), object(5)\n",
      "memory usage: 83.7+ KB\n",
      "None\n",
      "先頭の5行を表示\n",
      "   PassengerId  Survived  Pclass  \\\n",
      "0            1         0       3   \n",
      "1            2         1       1   \n",
      "2            3         1       3   \n",
      "3            4         1       1   \n",
      "4            5         0       3   \n",
      "\n",
      "                                                Name     Sex   Age  SibSp  \\\n",
      "0                            Braund, Mr. Owen Harris    male  22.0      1   \n",
      "1  Cumings, Mrs. John Bradley (Florence Briggs Th...  female  38.0      1   \n",
      "2                             Heikkinen, Miss. Laina  female  26.0      0   \n",
      "3       Futrelle, Mrs. Jacques Heath (Lily May Peel)  female  35.0      1   \n",
      "4                           Allen, Mr. William Henry    male  35.0      0   \n",
      "\n",
      "   Parch            Ticket     Fare Cabin Embarked  \n",
      "0      0         A/5 21171   7.2500   NaN        S  \n",
      "1      0          PC 17599  71.2833   C85        C  \n",
      "2      0  STON/O2. 3101282   7.9250   NaN        S  \n",
      "3      0            113803  53.1000  C123        S  \n",
      "4      0            373450   8.0500   NaN        S  \n",
      "train dataframeの形状を確認:(891, 12)\n",
      "test dataframeの形状を確認:(418, 11)\n",
      "indexの確認;RangeIndex(start=0, stop=891, step=1)\n",
      "カラムの確認:Index(['PassengerId', 'Survived', 'Pclass', 'Name', 'Sex', 'Age', 'SibSp',\n",
      "       'Parch', 'Ticket', 'Fare', 'Cabin', 'Embarked'],\n",
      "      dtype='object')\n",
      "欠損値の確認:\n",
      "PassengerId      0\n",
      "Survived         0\n",
      "Pclass           0\n",
      "Name             0\n",
      "Sex              0\n",
      "Age            177\n",
      "SibSp            0\n",
      "Parch            0\n",
      "Ticket           0\n",
      "Fare             0\n",
      "Cabin          687\n",
      "Embarked         2\n",
      "dtype: int64\n"
     ]
    }
   ],
   "source": [
    "a=analyzer(\"data/train.csv\", \"data/test.csv\")\n",
    "a.get_information()"
   ]
  },
  {
   "cell_type": "markdown",
   "id": "45f47197",
   "metadata": {},
   "source": [
    "## データセットの作成"
   ]
  },
  {
   "cell_type": "code",
   "execution_count": 8,
   "id": "5359cded",
   "metadata": {},
   "outputs": [
    {
     "name": "stdout",
     "output_type": "stream",
     "text": [
      "x_train: (891, 2), y_train: (891,), id_train: (891,)\n",
      "x_tr: (712, 2), x_va: (179, 2), y_tr: (712,), y_vr: (179,)\n"
     ]
    }
   ],
   "source": [
    "x_train, y_train, id_train = a.make_dataset(\"Pclass\", \"Fare\", \"PassengerId\", \"Survived\")\n",
    "# train,valに分割\n",
    "x_train, x_val, y_train, y_val = a.split_train_val(x_train, y_train, test_size=0.2, shuffle=True, stratify=y_train, random_state=0)"
   ]
  },
  {
   "cell_type": "markdown",
   "id": "8f3864be",
   "metadata": {},
   "source": [
    "# モデルの学習と評価"
   ]
  },
  {
   "cell_type": "code",
   "execution_count": 9,
   "id": "515751fd",
   "metadata": {},
   "outputs": [
    {
     "name": "stdout",
     "output_type": "stream",
     "text": [
      "[LightGBM] [Info] Number of positive: 273, number of negative: 439\n",
      "[LightGBM] [Info] Auto-choosing col-wise multi-threading, the overhead of testing was 0.000120 seconds.\n",
      "You can set `force_col_wise=true` to remove the overhead.\n",
      "[LightGBM] [Info] Total Bins 123\n",
      "[LightGBM] [Info] Number of data points in the train set: 712, number of used features: 2\n",
      "[LightGBM] [Info] [binary:BoostFromScore]: pavg=0.383427 -> initscore=-0.475028\n",
      "[LightGBM] [Info] Start training from score -0.475028\n",
      "Training until validation scores don't improve for 100 rounds\n",
      "[10]\ttraining's auc: 0.783566\tvalid_1's auc: 0.686364\n",
      "[20]\ttraining's auc: 0.803887\tvalid_1's auc: 0.71166\n",
      "[30]\ttraining's auc: 0.814359\tvalid_1's auc: 0.728722\n",
      "[40]\ttraining's auc: 0.819841\tvalid_1's auc: 0.729776\n",
      "[50]\ttraining's auc: 0.822678\tvalid_1's auc: 0.731357\n",
      "[60]\ttraining's auc: 0.826796\tvalid_1's auc: 0.731225\n",
      "[70]\ttraining's auc: 0.830659\tvalid_1's auc: 0.734387\n",
      "[80]\ttraining's auc: 0.832929\tvalid_1's auc: 0.740184\n",
      "[90]\ttraining's auc: 0.835307\tvalid_1's auc: 0.740053\n",
      "[100]\ttraining's auc: 0.836967\tvalid_1's auc: 0.742622\n",
      "[110]\ttraining's auc: 0.838824\tvalid_1's auc: 0.743808\n",
      "[120]\ttraining's auc: 0.839616\tvalid_1's auc: 0.745125\n",
      "[130]\ttraining's auc: 0.84106\tvalid_1's auc: 0.745191\n",
      "[140]\ttraining's auc: 0.841898\tvalid_1's auc: 0.746904\n",
      "[150]\ttraining's auc: 0.843208\tvalid_1's auc: 0.747036\n",
      "[160]\ttraining's auc: 0.843809\tvalid_1's auc: 0.746509\n",
      "[170]\ttraining's auc: 0.844873\tvalid_1's auc: 0.749539\n",
      "[180]\ttraining's auc: 0.845315\tvalid_1's auc: 0.748221\n",
      "[190]\ttraining's auc: 0.846337\tvalid_1's auc: 0.74888\n",
      "[200]\ttraining's auc: 0.846905\tvalid_1's auc: 0.748748\n",
      "[210]\ttraining's auc: 0.847297\tvalid_1's auc: 0.747826\n",
      "[220]\ttraining's auc: 0.848015\tvalid_1's auc: 0.749012\n",
      "[230]\ttraining's auc: 0.848415\tvalid_1's auc: 0.748485\n",
      "[240]\ttraining's auc: 0.849199\tvalid_1's auc: 0.748353\n",
      "[250]\ttraining's auc: 0.84975\tvalid_1's auc: 0.747299\n",
      "[260]\ttraining's auc: 0.850493\tvalid_1's auc: 0.747958\n",
      "[270]\ttraining's auc: 0.850593\tvalid_1's auc: 0.746904\n",
      "[280]\ttraining's auc: 0.850927\tvalid_1's auc: 0.747563\n",
      "Early stopping, best iteration is:\n",
      "[186]\ttraining's auc: 0.846025\tvalid_1's auc: 0.75112\n",
      "Train Accuracy: 0.7669\n",
      "Validation Accuracy: 0.7207\n"
     ]
    }
   ],
   "source": [
    "# ハイパーパラメータ設定\n",
    "params = {\n",
    "    \"boosting_type\": \"gbdt\",         # 勾配ブースティング決定木\n",
    "    \"objective\": \"binary\",           # 2値分類\n",
    "    \"metric\": \"auc\",                 # 評価指標はAUC\n",
    "    \"learning_rate\": 0.1,            # 学習率\n",
    "    \"num_leaves\": 16,                # 葉の数\n",
    "    \"n_estimators\": 100000,          # 最大イテレーション数\n",
    "    \"random_state\": 123,             # 乱数シード\n",
    "    \"importance_type\": \"gain\"        # 特徴量重要度の計算方法\n",
    "}\n",
    "\n",
    "# モデルのインスタンス化\n",
    "model = lgb.LGBMClassifier(**params)\n",
    "\n",
    "# モデルの学習\n",
    "model.fit(\n",
    "    x_train, y_train,                                # 学習データ\n",
    "    eval_set=[(x_train, y_train), (x_val, y_val)],   # 評価用データ（学習・検証）\n",
    "    callbacks=[\n",
    "        lgb.early_stopping(stopping_rounds=100),     # 100回改善しなければ早期終了\n",
    "        lgb.log_evaluation(period=10)                # 10回ごとに評価指標を表示\n",
    "    ]\n",
    ")\n",
    "\n",
    "x_train_pred = model.predict(x_train)\n",
    "x_val_pred = model.predict(x_val)\n",
    "accuracy_train = accuracy_score(y_train, x_train_pred)\n",
    "accuracy_val = accuracy_score(y_val, x_val_pred)\n",
    "\n",
    "print(f\"Train Accuracy: {accuracy_train:.4f}\")\n",
    "print(f\"Validation Accuracy: {accuracy_val:.4f}\")"
   ]
  },
  {
   "cell_type": "markdown",
   "id": "61896325",
   "metadata": {},
   "source": [
    "## 特徴量の重要度の算出"
   ]
  },
  {
   "cell_type": "code",
   "execution_count": 10,
   "id": "78496891",
   "metadata": {},
   "outputs": [
    {
     "data": {
      "text/html": [
       "<div>\n",
       "<style scoped>\n",
       "    .dataframe tbody tr th:only-of-type {\n",
       "        vertical-align: middle;\n",
       "    }\n",
       "\n",
       "    .dataframe tbody tr th {\n",
       "        vertical-align: top;\n",
       "    }\n",
       "\n",
       "    .dataframe thead th {\n",
       "        text-align: right;\n",
       "    }\n",
       "</style>\n",
       "<table border=\"1\" class=\"dataframe\">\n",
       "  <thead>\n",
       "    <tr style=\"text-align: right;\">\n",
       "      <th></th>\n",
       "      <th>col</th>\n",
       "      <th>imp</th>\n",
       "    </tr>\n",
       "  </thead>\n",
       "  <tbody>\n",
       "    <tr>\n",
       "      <th>0</th>\n",
       "      <td>Fare</td>\n",
       "      <td>1013.661127</td>\n",
       "    </tr>\n",
       "    <tr>\n",
       "      <th>1</th>\n",
       "      <td>Pclass</td>\n",
       "      <td>474.618153</td>\n",
       "    </tr>\n",
       "  </tbody>\n",
       "</table>\n",
       "</div>"
      ],
      "text/plain": [
       "      col          imp\n",
       "0    Fare  1013.661127\n",
       "1  Pclass   474.618153"
      ]
     },
     "execution_count": 10,
     "metadata": {},
     "output_type": "execute_result"
    }
   ],
   "source": [
    "imp=pd.DataFrame({\"col\":x_train.columns, \"imp\":model.feature_importances_})\n",
    "imp.sort_values(\"imp\",ascending=False,ignore_index=True)"
   ]
  },
  {
   "cell_type": "markdown",
   "id": "ad572124",
   "metadata": {},
   "source": [
    "## Confusion matrixの表示"
   ]
  },
  {
   "cell_type": "code",
   "execution_count": 11,
   "id": "beba91b6",
   "metadata": {},
   "outputs": [
    {
     "data": {
      "image/png": "[encoded data removed]",
      "text/plain": [
       "<Figure size 640x480 with 2 Axes>"
      ]
     },
     "metadata": {},
     "output_type": "display_data"
    }
   ],
   "source": [
    "# 混同行列の表示\n",
    "a.display_confusion_matrix(y_val, x_val_pred)"
   ]
  },
  {
   "cell_type": "markdown",
   "id": "37f13f6d",
   "metadata": {},
   "source": [
    "## 予測値の分布表示"
   ]
  },
  {
   "cell_type": "code",
   "execution_count": 12,
   "id": "54365ec9",
   "metadata": {},
   "outputs": [
    {
     "data": {
      "image/png": "[encoded data removed]",
      "text/plain": [
       "<Figure size 1000x800 with 1 Axes>"
      ]
     },
     "metadata": {},
     "output_type": "display_data"
    }
   ],
   "source": [
    "a.display_prediction(y_val, x_val, model)"
   ]
  },
  {
   "cell_type": "markdown",
   "id": "c3db1204",
   "metadata": {},
   "source": [
    "# テスト"
   ]
  },
  {
   "cell_type": "markdown",
   "id": "3ba1679b",
   "metadata": {},
   "source": [
    "## 学習モデルをテストデータに使用"
   ]
  },
  {
   "cell_type": "code",
   "execution_count": 13,
   "id": "a67c4dba",
   "metadata": {},
   "outputs": [
    {
     "name": "stdout",
     "output_type": "stream",
     "text": [
      "x_test: (418, 2), id_test: (418,)\n"
     ]
    }
   ],
   "source": [
    "# テストデータセットの作成\n",
    "x_test, id_test = a.make_test_dataset(\"Pclass\", \"Fare\", \"PassengerId\")\n",
    "# 学習モデルによる推論\n",
    "y_test_pred = model.predict(x_test)"
   ]
  },
  {
   "cell_type": "markdown",
   "id": "2edfdb9a",
   "metadata": {},
   "source": [
    "## 提出用ファイルの作成"
   ]
  },
  {
   "cell_type": "code",
   "execution_count": 15,
   "id": "a7901d8b",
   "metadata": {},
   "outputs": [
    {
     "data": {
      "text/html": [
       "<div>\n",
       "<style scoped>\n",
       "    .dataframe tbody tr th:only-of-type {\n",
       "        vertical-align: middle;\n",
       "    }\n",
       "\n",
       "    .dataframe tbody tr th {\n",
       "        vertical-align: top;\n",
       "    }\n",
       "\n",
       "    .dataframe thead th {\n",
       "        text-align: right;\n",
       "    }\n",
       "</style>\n",
       "<table border=\"1\" class=\"dataframe\">\n",
       "  <thead>\n",
       "    <tr style=\"text-align: right;\">\n",
       "      <th></th>\n",
       "      <th>PassengerID</th>\n",
       "      <th>Survived</th>\n",
       "    </tr>\n",
       "  </thead>\n",
       "  <tbody>\n",
       "    <tr>\n",
       "      <th>0</th>\n",
       "      <td>892</td>\n",
       "      <td>0</td>\n",
       "    </tr>\n",
       "    <tr>\n",
       "      <th>1</th>\n",
       "      <td>893</td>\n",
       "      <td>0</td>\n",
       "    </tr>\n",
       "    <tr>\n",
       "      <th>2</th>\n",
       "      <td>894</td>\n",
       "      <td>0</td>\n",
       "    </tr>\n",
       "    <tr>\n",
       "      <th>3</th>\n",
       "      <td>895</td>\n",
       "      <td>0</td>\n",
       "    </tr>\n",
       "    <tr>\n",
       "      <th>4</th>\n",
       "      <td>896</td>\n",
       "      <td>1</td>\n",
       "    </tr>\n",
       "  </tbody>\n",
       "</table>\n",
       "</div>"
      ],
      "text/plain": [
       "   PassengerID  Survived\n",
       "0          892         0\n",
       "1          893         0\n",
       "2          894         0\n",
       "3          895         0\n",
       "4          896         1"
      ]
     },
     "metadata": {},
     "output_type": "display_data"
    }
   ],
   "source": [
    "a.make_submission_file(y_test_pred, id_test)"
   ]
  }
 ],
 "metadata": {
  "kernelspec": {
   "display_name": "venv (3.10.10)",
   "language": "python",
   "name": "python3"
  },
  "language_info": {
   "codemirror_mode": {
    "name": "ipython",
    "version": 3
   },
   "file_extension": ".py",
   "mimetype": "text/x-python",
   "name": "python",
   "nbconvert_exporter": "python",
   "pygments_lexer": "ipython3",
   "version": "3.10.10"
  }
 },
 "nbformat": 4,
 "nbformat_minor": 5
}
