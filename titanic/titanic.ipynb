{
 "cells": [
  {
   "cell_type": "markdown",
   "id": "409f8593",
   "metadata": {},
   "source": [
    "# Titanic Data Analysis"
   ]
  },
  {
   "cell_type": "markdown",
   "id": "ef0d7b43",
   "metadata": {},
   "source": [
    "# 準備"
   ]
  },
  {
   "cell_type": "markdown",
   "id": "b22bccf6",
   "metadata": {},
   "source": [
    "## 必要なライブラリをインポート"
   ]
  },
  {
   "cell_type": "code",
   "execution_count": 240,
   "id": "5fc99294",
   "metadata": {},
   "outputs": [],
   "source": [
    "import lightgbm as lgb\n",
    "import pandas as pd\n",
    "import os\n",
    "import numpy as np\n",
    "import matplotlib.pyplot as plt\n",
    "from sklearn.model_selection import train_test_split\n",
    "from sklearn.metrics import accuracy_score\n",
    "from sklearn.metrics import confusion_matrix, ConfusionMatrixDisplay\n",
    "from pandas_profiling import ProfileReport\n",
    "from sklearn.preprocessing import LabelEncoder"
   ]
  },
  {
   "cell_type": "markdown",
   "id": "970b5ffd",
   "metadata": {},
   "source": [
    "## 関数の定義"
   ]
  },
  {
   "cell_type": "code",
   "execution_count": null,
   "id": "f7f544ab",
   "metadata": {},
   "outputs": [],
   "source": [
    "class analyzer:\n",
    "    def __init__(self, train_csv_file, test_csv_file, sep=\",\", engine=\"python\"):\n",
    "        self.train_df = pd.read_csv(train_csv_file, sep=sep, engine=engine)\n",
    "        self.test_df = pd.read_csv(test_csv_file, sep=sep, engine=engine)\n",
    "        self.fill_pattern = \"None\"  # 欠損値の補完方法を指定(\"None\", \"mean\", \"median\", \"mode\", \"0\")\n",
    "        self.features=[\"Age\", \"Fare\", \"Pclass\",\"Sex_le\"]# データセットに使用する特徴量を指定\n",
    "        self.check_outliers_features = [\"Age\", \"Fare\"]\n",
    "        self.feature_id=\"PassengerId\"\n",
    "        self.target=\"Survived\"\n",
    "\n",
    "    def get_information(self):\n",
    "        print(self.train_df.info())\n",
    "        print(self.train_df.describe().T)\n",
    "        print(\"先頭の5行を表示\")\n",
    "        print(self.train_df.head())\n",
    "        print(f\"train dataframeの形状を確認:{self.train_df.shape}\")\n",
    "        print(f\"test dataframeの形状を確認:{self.test_df.shape}\")\n",
    "        print(f\"indexの確認;{self.train_df.index}\")  # 表の縦軸\n",
    "        print(f\"カラムの確認:{self.train_df.columns}\")  # 表の横軸\n",
    "        print(f\"欠損値の確認:\\n{self.train_df.isnull().sum()}\")\n",
    "        print(f\"運賃の平均値を確認:{self.train_df['Fare'].agg(['mean'])}\")\n",
    "        print(f\"運賃に関する統計量を確認:\\n{self.train_df['Fare'].agg(['mean', 'std', 'min', 'max'])}\")\n",
    "        print(f\"男女の人数を確認:{self.train_df['Sex'].value_counts()}\")\n",
    "        # print(\"trainデータの観察:\")\n",
    "        # profile = ProfileReport(self.train_df)\n",
    "        # display(profile)\n",
    "\n",
    "    def make_dataset(self):\n",
    "        x_train = self.train_df[self.features]\n",
    "        y_train = self.train_df[self.target] if self.target else None\n",
    "        id_train = self.train_df[self.feature_id] if self.feature_id else None\n",
    "        print(f\"x_train: {x_train.shape}, y_train: {y_train.shape if y_train is not None else None}, id_train: {id_train.shape if id_train is not None else None}\")\n",
    "        return x_train, y_train, id_train\n",
    "\n",
    "    def fill_missing_values(self):\n",
    "        if self.fill_pattern==\"None\":\n",
    "            self.train_df[\"Age_fill\"]=self.train_df[\"Age\"]\n",
    "            self.test_df[\"Age_fill\"]=self.test_df[\"Age\"]\n",
    "            print(\"欠損値補完を行いませんでした\")\n",
    "        elif self.fill_pattern == \"mean\":\n",
    "            self.train_df[\"Age_fill\"] = self.train_df[\"Age\"].fillna(self.train_df[\"Age\"].mean())\n",
    "            self.test_df[\"Age_fill\"] = self.test_df[\"Age\"].fillna(self.test_df[\"Age\"].mean())\n",
    "            print(\"欠損値を平均値で補完しました\")\n",
    "        elif self.fill_pattern == \"median\":\n",
    "            self.train_df[\"Age_fill\"] = self.train_df[\"Age\"].fillna(self.train_df[\"Age\"].median())\n",
    "            self.test_df[\"Age_fill\"] = self.test_df[\"Age\"].fillna(self.test_df[\"Age\"].median())\n",
    "            print(\"欠損値を中央値で補完しました\")\n",
    "        elif self.fill_pattern == \"mode\":\n",
    "            self.train_df[\"Age_fill\"] = self.train_df[\"Age\"].fillna(self.train_df[\"Age\"].mode()[0])\n",
    "            self.test_df[\"Age_fill\"] = self.test_df[\"Age\"].fillna(self.test_df[\"Age\"].mode()[0])\n",
    "            print(\"欠損値を最頻値で補完しました\")\n",
    "        elif self.fill_pattern == \"0\":\n",
    "            self.train_df[\"Age_fill\"] = self.train_df[\"Age\"].fillna(0)\n",
    "            self.test_df[\"Age_fill\"] = self.test_df[\"Age\"].fillna(0)\n",
    "            print(\"欠損値を0で補完しました\")\n",
    "        else:\n",
    "            print(\"Unknown fill_pattern. Please use 'mean', 'median', 'mode', or '0'.\")\n",
    "    \n",
    "    def create_missing_flags(self, feature=\"Age\"):\n",
    "        self.train_df[f\"{feature}_missing\"] = self.train_df[feature].isnull()*1# isnull=1, notnull=0\n",
    "        self.test_df[f\"{feature}_missing\"] = self.test_df[feature].isnull()*1\n",
    "        result=self.train_df[[feature, f\"{feature}_missing\"]].head(7)\n",
    "        display(result)\n",
    "    \n",
    "    def label_encode(self, feature):\n",
    "        le=LabelEncoder()\n",
    "        le.fit(self.train_df[f\"{feature}\"])\n",
    "        self.train_df[f\"{feature}_le\"]=le.transform(self.train_df[f\"{feature}\"])\n",
    "        self.test_df[f\"{feature}_le\"]=le.transform(self.test_df[f\"{feature}\"])\n",
    "        result=self.train_df[[f\"{feature}\", f\"{feature}_le\"]].head(5)\n",
    "        display(result)\n",
    "\n",
    "    def create_combined_features(self, feature1=None, feature2=None):\n",
    "        self.train_df[f\"{feature1}+{feature2}\"]=self.train_df[feature1]+self.train_df[feature2]\n",
    "        self.test_df[f\"{feature1}+{feature2}\"]=self.test_df[feature1]+self.test_df[feature2]\n",
    "        result=self.train_df[[feature1,feature2,f\"{feature1}+{feature2}\"]]\n",
    "        print(f\"{feature1}と{feature2}を合わせた新たな特徴量\"f\"{feature1}+{feature2}を作成しました\")\n",
    "        display(result)\n",
    "        \n",
    "\n",
    "    def check_outliers_min_max(self):\n",
    "        for feature in self.check_outliers_features:\n",
    "            if feature not in self.train_df.columns:\n",
    "                print(f\"Column '{feature}' does not exist in the DataFrame.\")\n",
    "                continue\n",
    "\n",
    "            print(f\"Outlier check for feature '{feature}':\")\n",
    "\n",
    "        result=self.train_df[self.check_outliers_features].agg([\"min\", \"max\"])\n",
    "        display(result)\n",
    "\n",
    "    def check_outliers_hist(self):\n",
    "        for feature in self.check_outliers_features:\n",
    "            if feature not in self.train_df.columns:\n",
    "                print(f\"Column '{feature}' does not exist in the DataFrame.\")\n",
    "                continue\n",
    "\n",
    "            print(f\"Outlier check for feature '{feature}':\")\n",
    "\n",
    "        result=self.train_df[self.check_outliers_features].hist(bins=40)\n",
    "        plt.show()\n",
    "\n",
    "    def split_train_val(self, x_train, y_train, test_size=0.2, shuffle=True, stratify=None, random_state=0):\n",
    "        x_tr, x_va, y_tr, y_vr = train_test_split(x_train, y_train, test_size=test_size, shuffle=shuffle, stratify=stratify, random_state=random_state)\n",
    "        print(f\"x_tr: {x_tr.shape}, x_va: {x_va.shape}, y_tr: {y_tr.shape}, y_vr: {y_vr.shape}\")\n",
    "        return x_tr, x_va, y_tr, y_vr\n",
    "\n",
    "    def display_confusion_matrix(self, y_val=None, x_val_pred=None):\n",
    "        # 混同行列の作成\n",
    "        cm = confusion_matrix(y_val, x_val_pred)\n",
    "        # Confusion matrixの表示\n",
    "        disp = ConfusionMatrixDisplay(confusion_matrix=cm)\n",
    "        disp.plot(cmap=plt.cm.Reds)\n",
    "\n",
    "        # X軸ラベル、Y軸ラベル、タイトルの追加\n",
    "        plt.xlabel('Predicted')\n",
    "        plt.ylabel('Actual')\n",
    "        plt.title('Confusion Matrix')\n",
    "\n",
    "        # Confusion matrixの表示\n",
    "        plt.show()\n",
    "\n",
    "    def display_prediction(self, y_val=None, x_val=None, model=None):\n",
    "        if y_val is None or x_val is None or model is None:\n",
    "            print(\"y_val or x_val or model is None\")\n",
    "            return\n",
    "\n",
    "        y_val_pred = model.predict_proba(x_val)[:, 1]\n",
    "        # 確率値をヒストグラムで表示\n",
    "        fig = plt.figure(figsize=(10, 8))\n",
    "        # 検証データ\n",
    "        plt.title(\"Validation data\")\n",
    "        plt.hist(y_val_pred[y_val==1], bins=10, alpha=0.5, label=\"1\")\n",
    "        plt.hist(y_val_pred[y_val==0], bins=10, alpha=0.5, label=\"0\")\n",
    "        plt.grid()\n",
    "        plt.legend()\n",
    "        plt.show()\n",
    "\n",
    "    def make_test_dataset(self):\n",
    "        x_test = self.test_df[self.features]\n",
    "        id_test = self.test_df[self.feature_id]\n",
    "        print(f\"x_test: {x_test.shape}, id_test: {id_test.shape}\")\n",
    "        return x_test, id_test\n",
    "\n",
    "    def make_submission_file(self,y_test_pred=None, passenger_ids=None):\n",
    "        df_submit=pd.DataFrame({\"PassengerID\": passenger_ids, \"Survived\": y_test_pred})\n",
    "        display(df_submit.head())\n",
    "        if os.path.exists(\"data\") is False:\n",
    "            os.makedirs(\"data\")\n",
    "        df_submit.to_csv(\"data/submission.csv\", index=False)"
   ]
  },
  {
   "cell_type": "markdown",
   "id": "885dcf41",
   "metadata": {},
   "source": [
    "## データ表示"
   ]
  },
  {
   "cell_type": "code",
   "execution_count": 242,
   "id": "b069e916",
   "metadata": {},
   "outputs": [
    {
     "name": "stdout",
     "output_type": "stream",
     "text": [
      "<class 'pandas.core.frame.DataFrame'>\n",
      "RangeIndex: 891 entries, 0 to 890\n",
      "Data columns (total 12 columns):\n",
      " #   Column       Non-Null Count  Dtype  \n",
      "---  ------       --------------  -----  \n",
      " 0   PassengerId  891 non-null    int64  \n",
      " 1   Survived     891 non-null    int64  \n",
      " 2   Pclass       891 non-null    int64  \n",
      " 3   Name         891 non-null    object \n",
      " 4   Sex          891 non-null    object \n",
      " 5   Age          714 non-null    float64\n",
      " 6   SibSp        891 non-null    int64  \n",
      " 7   Parch        891 non-null    int64  \n",
      " 8   Ticket       891 non-null    object \n",
      " 9   Fare         891 non-null    float64\n",
      " 10  Cabin        204 non-null    object \n",
      " 11  Embarked     889 non-null    object \n",
      "dtypes: float64(2), int64(5), object(5)\n",
      "memory usage: 83.7+ KB\n",
      "None\n",
      "             count        mean         std   min       25%       50%    75%  \\\n",
      "PassengerId  891.0  446.000000  257.353842  1.00  223.5000  446.0000  668.5   \n",
      "Survived     891.0    0.383838    0.486592  0.00    0.0000    0.0000    1.0   \n",
      "Pclass       891.0    2.308642    0.836071  1.00    2.0000    3.0000    3.0   \n",
      "Age          714.0   29.699118   14.526497  0.42   20.1250   28.0000   38.0   \n",
      "SibSp        891.0    0.523008    1.102743  0.00    0.0000    0.0000    1.0   \n",
      "Parch        891.0    0.381594    0.806057  0.00    0.0000    0.0000    0.0   \n",
      "Fare         891.0   32.204208   49.693429  0.00    7.9104   14.4542   31.0   \n",
      "\n",
      "                  max  \n",
      "PassengerId  891.0000  \n",
      "Survived       1.0000  \n",
      "Pclass         3.0000  \n",
      "Age           80.0000  \n",
      "SibSp          8.0000  \n",
      "Parch          6.0000  \n",
      "Fare         512.3292  \n",
      "先頭の5行を表示\n",
      "   PassengerId  Survived  Pclass  \\\n",
      "0            1         0       3   \n",
      "1            2         1       1   \n",
      "2            3         1       3   \n",
      "3            4         1       1   \n",
      "4            5         0       3   \n",
      "\n",
      "                                                Name     Sex   Age  SibSp  \\\n",
      "0                            Braund, Mr. Owen Harris    male  22.0      1   \n",
      "1  Cumings, Mrs. John Bradley (Florence Briggs Th...  female  38.0      1   \n",
      "2                             Heikkinen, Miss. Laina  female  26.0      0   \n",
      "3       Futrelle, Mrs. Jacques Heath (Lily May Peel)  female  35.0      1   \n",
      "4                           Allen, Mr. William Henry    male  35.0      0   \n",
      "\n",
      "   Parch            Ticket     Fare Cabin Embarked  \n",
      "0      0         A/5 21171   7.2500   NaN        S  \n",
      "1      0          PC 17599  71.2833   C85        C  \n",
      "2      0  STON/O2. 3101282   7.9250   NaN        S  \n",
      "3      0            113803  53.1000  C123        S  \n",
      "4      0            373450   8.0500   NaN        S  \n",
      "train dataframeの形状を確認:(891, 12)\n",
      "test dataframeの形状を確認:(418, 11)\n",
      "indexの確認;RangeIndex(start=0, stop=891, step=1)\n",
      "カラムの確認:Index(['PassengerId', 'Survived', 'Pclass', 'Name', 'Sex', 'Age', 'SibSp',\n",
      "       'Parch', 'Ticket', 'Fare', 'Cabin', 'Embarked'],\n",
      "      dtype='object')\n",
      "欠損値の確認:\n",
      "PassengerId      0\n",
      "Survived         0\n",
      "Pclass           0\n",
      "Name             0\n",
      "Sex              0\n",
      "Age            177\n",
      "SibSp            0\n",
      "Parch            0\n",
      "Ticket           0\n",
      "Fare             0\n",
      "Cabin          687\n",
      "Embarked         2\n",
      "dtype: int64\n",
      "運賃の平均値を確認:mean    32.204208\n",
      "Name: Fare, dtype: float64\n",
      "運賃に関する統計量を確認:\n",
      "mean     32.204208\n",
      "std      49.693429\n",
      "min       0.000000\n",
      "max     512.329200\n",
      "Name: Fare, dtype: float64\n",
      "男女の人数を確認:male      577\n",
      "female    314\n",
      "Name: Sex, dtype: int64\n"
     ]
    }
   ],
   "source": [
    "a=analyzer(\"data/train.csv\", \"data/test.csv\")\n",
    "a.get_information()"
   ]
  },
  {
   "cell_type": "markdown",
   "id": "45f47197",
   "metadata": {},
   "source": [
    "## データセットの作成"
   ]
  },
  {
   "cell_type": "markdown",
   "id": "b0da92a3",
   "metadata": {},
   "source": [
    "### 欠損値の補完"
   ]
  },
  {
   "cell_type": "code",
   "execution_count": 243,
   "id": "62c7af50",
   "metadata": {},
   "outputs": [
    {
     "name": "stdout",
     "output_type": "stream",
     "text": [
      "欠損値補完を行いませんでした\n"
     ]
    }
   ],
   "source": [
    "a.fill_missing_values()"
   ]
  },
  {
   "cell_type": "markdown",
   "id": "05553142",
   "metadata": {},
   "source": [
    "### 特徴量の生成"
   ]
  },
  {
   "cell_type": "code",
   "execution_count": 244,
   "id": "be79d3e5",
   "metadata": {},
   "outputs": [
    {
     "data": {
      "text/html": [
       "<div>\n",
       "<style scoped>\n",
       "    .dataframe tbody tr th:only-of-type {\n",
       "        vertical-align: middle;\n",
       "    }\n",
       "\n",
       "    .dataframe tbody tr th {\n",
       "        vertical-align: top;\n",
       "    }\n",
       "\n",
       "    .dataframe thead th {\n",
       "        text-align: right;\n",
       "    }\n",
       "</style>\n",
       "<table border=\"1\" class=\"dataframe\">\n",
       "  <thead>\n",
       "    <tr style=\"text-align: right;\">\n",
       "      <th></th>\n",
       "      <th>Cabin</th>\n",
       "      <th>Cabin_missing</th>\n",
       "    </tr>\n",
       "  </thead>\n",
       "  <tbody>\n",
       "    <tr>\n",
       "      <th>0</th>\n",
       "      <td>NaN</td>\n",
       "      <td>1</td>\n",
       "    </tr>\n",
       "    <tr>\n",
       "      <th>1</th>\n",
       "      <td>C85</td>\n",
       "      <td>0</td>\n",
       "    </tr>\n",
       "    <tr>\n",
       "      <th>2</th>\n",
       "      <td>NaN</td>\n",
       "      <td>1</td>\n",
       "    </tr>\n",
       "    <tr>\n",
       "      <th>3</th>\n",
       "      <td>C123</td>\n",
       "      <td>0</td>\n",
       "    </tr>\n",
       "    <tr>\n",
       "      <th>4</th>\n",
       "      <td>NaN</td>\n",
       "      <td>1</td>\n",
       "    </tr>\n",
       "    <tr>\n",
       "      <th>5</th>\n",
       "      <td>NaN</td>\n",
       "      <td>1</td>\n",
       "    </tr>\n",
       "    <tr>\n",
       "      <th>6</th>\n",
       "      <td>E46</td>\n",
       "      <td>0</td>\n",
       "    </tr>\n",
       "  </tbody>\n",
       "</table>\n",
       "</div>"
      ],
      "text/plain": [
       "  Cabin  Cabin_missing\n",
       "0   NaN              1\n",
       "1   C85              0\n",
       "2   NaN              1\n",
       "3  C123              0\n",
       "4   NaN              1\n",
       "5   NaN              1\n",
       "6   E46              0"
      ]
     },
     "metadata": {},
     "output_type": "display_data"
    },
    {
     "data": {
      "text/html": [
       "<div>\n",
       "<style scoped>\n",
       "    .dataframe tbody tr th:only-of-type {\n",
       "        vertical-align: middle;\n",
       "    }\n",
       "\n",
       "    .dataframe tbody tr th {\n",
       "        vertical-align: top;\n",
       "    }\n",
       "\n",
       "    .dataframe thead th {\n",
       "        text-align: right;\n",
       "    }\n",
       "</style>\n",
       "<table border=\"1\" class=\"dataframe\">\n",
       "  <thead>\n",
       "    <tr style=\"text-align: right;\">\n",
       "      <th></th>\n",
       "      <th>Sex</th>\n",
       "      <th>Sex_le</th>\n",
       "    </tr>\n",
       "  </thead>\n",
       "  <tbody>\n",
       "    <tr>\n",
       "      <th>0</th>\n",
       "      <td>male</td>\n",
       "      <td>1</td>\n",
       "    </tr>\n",
       "    <tr>\n",
       "      <th>1</th>\n",
       "      <td>female</td>\n",
       "      <td>0</td>\n",
       "    </tr>\n",
       "    <tr>\n",
       "      <th>2</th>\n",
       "      <td>female</td>\n",
       "      <td>0</td>\n",
       "    </tr>\n",
       "    <tr>\n",
       "      <th>3</th>\n",
       "      <td>female</td>\n",
       "      <td>0</td>\n",
       "    </tr>\n",
       "    <tr>\n",
       "      <th>4</th>\n",
       "      <td>male</td>\n",
       "      <td>1</td>\n",
       "    </tr>\n",
       "  </tbody>\n",
       "</table>\n",
       "</div>"
      ],
      "text/plain": [
       "      Sex  Sex_le\n",
       "0    male       1\n",
       "1  female       0\n",
       "2  female       0\n",
       "3  female       0\n",
       "4    male       1"
      ]
     },
     "metadata": {},
     "output_type": "display_data"
    },
    {
     "name": "stdout",
     "output_type": "stream",
     "text": [
      "SibSpとParchを合わせた新たな特徴量SibSp+Parchを作成しました\n"
     ]
    },
    {
     "data": {
      "text/html": [
       "<div>\n",
       "<style scoped>\n",
       "    .dataframe tbody tr th:only-of-type {\n",
       "        vertical-align: middle;\n",
       "    }\n",
       "\n",
       "    .dataframe tbody tr th {\n",
       "        vertical-align: top;\n",
       "    }\n",
       "\n",
       "    .dataframe thead th {\n",
       "        text-align: right;\n",
       "    }\n",
       "</style>\n",
       "<table border=\"1\" class=\"dataframe\">\n",
       "  <thead>\n",
       "    <tr style=\"text-align: right;\">\n",
       "      <th></th>\n",
       "      <th>SibSp</th>\n",
       "      <th>Parch</th>\n",
       "      <th>SibSp+Parch</th>\n",
       "    </tr>\n",
       "  </thead>\n",
       "  <tbody>\n",
       "    <tr>\n",
       "      <th>0</th>\n",
       "      <td>1</td>\n",
       "      <td>0</td>\n",
       "      <td>1</td>\n",
       "    </tr>\n",
       "    <tr>\n",
       "      <th>1</th>\n",
       "      <td>1</td>\n",
       "      <td>0</td>\n",
       "      <td>1</td>\n",
       "    </tr>\n",
       "    <tr>\n",
       "      <th>2</th>\n",
       "      <td>0</td>\n",
       "      <td>0</td>\n",
       "      <td>0</td>\n",
       "    </tr>\n",
       "    <tr>\n",
       "      <th>3</th>\n",
       "      <td>1</td>\n",
       "      <td>0</td>\n",
       "      <td>1</td>\n",
       "    </tr>\n",
       "    <tr>\n",
       "      <th>4</th>\n",
       "      <td>0</td>\n",
       "      <td>0</td>\n",
       "      <td>0</td>\n",
       "    </tr>\n",
       "    <tr>\n",
       "      <th>...</th>\n",
       "      <td>...</td>\n",
       "      <td>...</td>\n",
       "      <td>...</td>\n",
       "    </tr>\n",
       "    <tr>\n",
       "      <th>886</th>\n",
       "      <td>0</td>\n",
       "      <td>0</td>\n",
       "      <td>0</td>\n",
       "    </tr>\n",
       "    <tr>\n",
       "      <th>887</th>\n",
       "      <td>0</td>\n",
       "      <td>0</td>\n",
       "      <td>0</td>\n",
       "    </tr>\n",
       "    <tr>\n",
       "      <th>888</th>\n",
       "      <td>1</td>\n",
       "      <td>2</td>\n",
       "      <td>3</td>\n",
       "    </tr>\n",
       "    <tr>\n",
       "      <th>889</th>\n",
       "      <td>0</td>\n",
       "      <td>0</td>\n",
       "      <td>0</td>\n",
       "    </tr>\n",
       "    <tr>\n",
       "      <th>890</th>\n",
       "      <td>0</td>\n",
       "      <td>0</td>\n",
       "      <td>0</td>\n",
       "    </tr>\n",
       "  </tbody>\n",
       "</table>\n",
       "<p>891 rows × 3 columns</p>\n",
       "</div>"
      ],
      "text/plain": [
       "     SibSp  Parch  SibSp+Parch\n",
       "0        1      0            1\n",
       "1        1      0            1\n",
       "2        0      0            0\n",
       "3        1      0            1\n",
       "4        0      0            0\n",
       "..     ...    ...          ...\n",
       "886      0      0            0\n",
       "887      0      0            0\n",
       "888      1      2            3\n",
       "889      0      0            0\n",
       "890      0      0            0\n",
       "\n",
       "[891 rows x 3 columns]"
      ]
     },
     "metadata": {},
     "output_type": "display_data"
    }
   ],
   "source": [
    "a.create_missing_flags(feature=\"Cabin\")\n",
    "a.label_encode(\"Sex\")\n",
    "a.create_combined_features(feature1=\"SibSp\", feature2=\"Parch\")"
   ]
  },
  {
   "cell_type": "markdown",
   "id": "47d5beef",
   "metadata": {},
   "source": [
    "### Survivedと特徴量の関係を可視化"
   ]
  },
  {
   "cell_type": "code",
   "execution_count": null,
   "id": "3d66caa9",
   "metadata": {},
   "outputs": [
    {
     "data": {
      "image/png": "[encoded data removed]",
      "text/plain": [
       "<Figure size 800x600 with 1 Axes>"
      ]
     },
     "metadata": {},
     "output_type": "display_data"
    }
   ],
   "source": []
  },
  {
   "cell_type": "code",
   "execution_count": 246,
   "id": "5359cded",
   "metadata": {},
   "outputs": [
    {
     "name": "stdout",
     "output_type": "stream",
     "text": [
      "x_train: (891, 4), y_train: (891,), id_train: (891,)\n",
      "x_tr: (712, 4), x_va: (179, 4), y_tr: (712,), y_vr: (179,)\n"
     ]
    }
   ],
   "source": [
    "x_train, y_train, id_train = a.make_dataset()\n",
    "# train,valに分割\n",
    "x_train, x_val, y_train, y_val = a.split_train_val(x_train, y_train, test_size=0.2, shuffle=True, stratify=y_train, random_state=12)"
   ]
  },
  {
   "cell_type": "markdown",
   "id": "3d4b8f6f",
   "metadata": {},
   "source": [
    "### 外れ値の検出"
   ]
  },
  {
   "cell_type": "code",
   "execution_count": 247,
   "id": "935c7cb2",
   "metadata": {},
   "outputs": [
    {
     "name": "stdout",
     "output_type": "stream",
     "text": [
      "Outlier check for feature 'Age':\n",
      "Outlier check for feature 'Fare':\n"
     ]
    },
    {
     "data": {
      "text/html": [
       "<div>\n",
       "<style scoped>\n",
       "    .dataframe tbody tr th:only-of-type {\n",
       "        vertical-align: middle;\n",
       "    }\n",
       "\n",
       "    .dataframe tbody tr th {\n",
       "        vertical-align: top;\n",
       "    }\n",
       "\n",
       "    .dataframe thead th {\n",
       "        text-align: right;\n",
       "    }\n",
       "</style>\n",
       "<table border=\"1\" class=\"dataframe\">\n",
       "  <thead>\n",
       "    <tr style=\"text-align: right;\">\n",
       "      <th></th>\n",
       "      <th>Age</th>\n",
       "      <th>Fare</th>\n",
       "    </tr>\n",
       "  </thead>\n",
       "  <tbody>\n",
       "    <tr>\n",
       "      <th>min</th>\n",
       "      <td>0.42</td>\n",
       "      <td>0.0000</td>\n",
       "    </tr>\n",
       "    <tr>\n",
       "      <th>max</th>\n",
       "      <td>80.00</td>\n",
       "      <td>512.3292</td>\n",
       "    </tr>\n",
       "  </tbody>\n",
       "</table>\n",
       "</div>"
      ],
      "text/plain": [
       "       Age      Fare\n",
       "min   0.42    0.0000\n",
       "max  80.00  512.3292"
      ]
     },
     "metadata": {},
     "output_type": "display_data"
    },
    {
     "name": "stdout",
     "output_type": "stream",
     "text": [
      "Outlier check for feature 'Age':\n",
      "Outlier check for feature 'Fare':\n"
     ]
    },
    {
     "data": {
      "image/png": "[encoded data removed]",
      "text/plain": [
       "<Figure size 640x480 with 2 Axes>"
      ]
     },
     "metadata": {},
     "output_type": "display_data"
    }
   ],
   "source": [
    "a.check_outliers_min_max()\n",
    "a.check_outliers_hist()"
   ]
  },
  {
   "cell_type": "markdown",
   "id": "8f3864be",
   "metadata": {},
   "source": [
    "# モデルの学習と評価"
   ]
  },
  {
   "cell_type": "code",
   "execution_count": 248,
   "id": "515751fd",
   "metadata": {},
   "outputs": [
    {
     "name": "stdout",
     "output_type": "stream",
     "text": [
      "[LightGBM] [Info] Number of positive: 273, number of negative: 439\n",
      "[LightGBM] [Info] Auto-choosing col-wise multi-threading, the overhead of testing was 0.000111 seconds.\n",
      "You can set `force_col_wise=true` to remove the overhead.\n",
      "[LightGBM] [Info] Total Bins 180\n",
      "[LightGBM] [Info] Number of data points in the train set: 712, number of used features: 4\n",
      "[LightGBM] [Info] [binary:BoostFromScore]: pavg=0.383427 -> initscore=-0.475028\n",
      "[LightGBM] [Info] Start training from score -0.475028\n",
      "Training until validation scores don't improve for 100 rounds\n",
      "[10]\ttraining's auc: 0.912935\tvalid_1's auc: 0.851976\n",
      "[20]\ttraining's auc: 0.924475\tvalid_1's auc: 0.857312\n",
      "[30]\ttraining's auc: 0.934145\tvalid_1's auc: 0.862121\n",
      "[40]\ttraining's auc: 0.946298\tvalid_1's auc: 0.857773\n",
      "[50]\ttraining's auc: 0.955368\tvalid_1's auc: 0.85751\n",
      "[60]\ttraining's auc: 0.962198\tvalid_1's auc: 0.85448\n",
      "[70]\ttraining's auc: 0.968093\tvalid_1's auc: 0.850922\n",
      "[80]\ttraining's auc: 0.972319\tvalid_1's auc: 0.849341\n",
      "[90]\ttraining's auc: 0.97652\tvalid_1's auc: 0.847497\n",
      "[100]\ttraining's auc: 0.979415\tvalid_1's auc: 0.847497\n",
      "[110]\ttraining's auc: 0.981451\tvalid_1's auc: 0.845257\n",
      "[120]\ttraining's auc: 0.98335\tvalid_1's auc: 0.844203\n",
      "Early stopping, best iteration is:\n",
      "[28]\ttraining's auc: 0.932589\tvalid_1's auc: 0.862648\n",
      "Train Accuracy: 0.8539\n",
      "Validation Accuracy: 0.8324\n"
     ]
    }
   ],
   "source": [
    "# ハイパーパラメータ設定\n",
    "params = {\n",
    "    \"boosting_type\": \"gbdt\",         # 勾配ブースティング決定木\n",
    "    \"objective\": \"binary\",           # 2値分類\n",
    "    \"metric\": \"auc\",                 # 評価指標はAUC\n",
    "    \"learning_rate\": 0.1,            # 学習率\n",
    "    \"num_leaves\": 16,                # 葉の数\n",
    "    \"n_estimators\": 100000,          # 最大イテレーション数\n",
    "    \"random_state\": 0,             # 乱数シード\n",
    "    \"importance_type\": \"gain\"        # 特徴量重要度の計算方法\n",
    "}\n",
    "\n",
    "# モデルのインスタンス化\n",
    "model = lgb.LGBMClassifier(**params)\n",
    "\n",
    "# モデルの学習\n",
    "model.fit(\n",
    "    x_train, y_train,                                # 学習データ\n",
    "    eval_set=[(x_train, y_train), (x_val, y_val)],   # 評価用データ（学習・検証）\n",
    "    callbacks=[\n",
    "        lgb.early_stopping(stopping_rounds=100),     # 100回改善しなければ早期終了\n",
    "        lgb.log_evaluation(period=10)                # 10回ごとに評価指標を表示\n",
    "    ]\n",
    ")\n",
    "\n",
    "x_train_pred = model.predict(x_train)\n",
    "x_val_pred = model.predict(x_val)\n",
    "accuracy_train = accuracy_score(y_train, x_train_pred)\n",
    "accuracy_val = accuracy_score(y_val, x_val_pred)\n",
    "\n",
    "print(f\"Train Accuracy: {accuracy_train:.4f}\")\n",
    "print(f\"Validation Accuracy: {accuracy_val:.4f}\")"
   ]
  },
  {
   "cell_type": "markdown",
   "id": "61896325",
   "metadata": {},
   "source": [
    "## 特徴量の重要度の算出"
   ]
  },
  {
   "cell_type": "code",
   "execution_count": 249,
   "id": "78496891",
   "metadata": {},
   "outputs": [
    {
     "data": {
      "text/html": [
       "<div>\n",
       "<style scoped>\n",
       "    .dataframe tbody tr th:only-of-type {\n",
       "        vertical-align: middle;\n",
       "    }\n",
       "\n",
       "    .dataframe tbody tr th {\n",
       "        vertical-align: top;\n",
       "    }\n",
       "\n",
       "    .dataframe thead th {\n",
       "        text-align: right;\n",
       "    }\n",
       "</style>\n",
       "<table border=\"1\" class=\"dataframe\">\n",
       "  <thead>\n",
       "    <tr style=\"text-align: right;\">\n",
       "      <th></th>\n",
       "      <th>col</th>\n",
       "      <th>imp</th>\n",
       "    </tr>\n",
       "  </thead>\n",
       "  <tbody>\n",
       "    <tr>\n",
       "      <th>0</th>\n",
       "      <td>Sex_le</td>\n",
       "      <td>1192.453558</td>\n",
       "    </tr>\n",
       "    <tr>\n",
       "      <th>1</th>\n",
       "      <td>Age</td>\n",
       "      <td>415.468715</td>\n",
       "    </tr>\n",
       "    <tr>\n",
       "      <th>2</th>\n",
       "      <td>Fare</td>\n",
       "      <td>412.451150</td>\n",
       "    </tr>\n",
       "    <tr>\n",
       "      <th>3</th>\n",
       "      <td>Pclass</td>\n",
       "      <td>410.930029</td>\n",
       "    </tr>\n",
       "  </tbody>\n",
       "</table>\n",
       "</div>"
      ],
      "text/plain": [
       "      col          imp\n",
       "0  Sex_le  1192.453558\n",
       "1     Age   415.468715\n",
       "2    Fare   412.451150\n",
       "3  Pclass   410.930029"
      ]
     },
     "execution_count": 249,
     "metadata": {},
     "output_type": "execute_result"
    }
   ],
   "source": [
    "imp=pd.DataFrame({\"col\":x_train.columns, \"imp\":model.feature_importances_})\n",
    "imp.sort_values(\"imp\",ascending=False,ignore_index=True)"
   ]
  },
  {
   "cell_type": "markdown",
   "id": "ad572124",
   "metadata": {},
   "source": [
    "## Confusion matrixの表示"
   ]
  },
  {
   "cell_type": "code",
   "execution_count": 250,
   "id": "beba91b6",
   "metadata": {},
   "outputs": [
    {
     "data": {
      "image/png": "[encoded data removed]",
      "text/plain": [
       "<Figure size 640x480 with 2 Axes>"
      ]
     },
     "metadata": {},
     "output_type": "display_data"
    }
   ],
   "source": [
    "# 混同行列の表示\n",
    "a.display_confusion_matrix(y_val, x_val_pred)"
   ]
  },
  {
   "cell_type": "markdown",
   "id": "37f13f6d",
   "metadata": {},
   "source": [
    "## 予測値の分布表示"
   ]
  },
  {
   "cell_type": "code",
   "execution_count": 251,
   "id": "54365ec9",
   "metadata": {},
   "outputs": [
    {
     "data": {
      "image/png": "[encoded data removed]",
      "text/plain": [
       "<Figure size 1000x800 with 1 Axes>"
      ]
     },
     "metadata": {},
     "output_type": "display_data"
    }
   ],
   "source": [
    "a.display_prediction(y_val, x_val, model)"
   ]
  },
  {
   "cell_type": "markdown",
   "id": "c3db1204",
   "metadata": {},
   "source": [
    "# テスト"
   ]
  },
  {
   "cell_type": "markdown",
   "id": "3ba1679b",
   "metadata": {},
   "source": [
    "## 学習モデルをテストデータに使用"
   ]
  },
  {
   "cell_type": "code",
   "execution_count": 252,
   "id": "a67c4dba",
   "metadata": {},
   "outputs": [
    {
     "name": "stdout",
     "output_type": "stream",
     "text": [
      "x_test: (418, 4), id_test: (418,)\n"
     ]
    }
   ],
   "source": [
    "# テストデータセットの作成\n",
    "x_test, id_test = a.make_test_dataset()\n",
    "# 学習モデルによる推論\n",
    "y_test_pred = model.predict(x_test)"
   ]
  },
  {
   "cell_type": "markdown",
   "id": "2edfdb9a",
   "metadata": {},
   "source": [
    "## 提出用ファイルの作成"
   ]
  },
  {
   "cell_type": "code",
   "execution_count": 253,
   "id": "a7901d8b",
   "metadata": {},
   "outputs": [
    {
     "data": {
      "text/html": [
       "<div>\n",
       "<style scoped>\n",
       "    .dataframe tbody tr th:only-of-type {\n",
       "        vertical-align: middle;\n",
       "    }\n",
       "\n",
       "    .dataframe tbody tr th {\n",
       "        vertical-align: top;\n",
       "    }\n",
       "\n",
       "    .dataframe thead th {\n",
       "        text-align: right;\n",
       "    }\n",
       "</style>\n",
       "<table border=\"1\" class=\"dataframe\">\n",
       "  <thead>\n",
       "    <tr style=\"text-align: right;\">\n",
       "      <th></th>\n",
       "      <th>PassengerID</th>\n",
       "      <th>Survived</th>\n",
       "    </tr>\n",
       "  </thead>\n",
       "  <tbody>\n",
       "    <tr>\n",
       "      <th>0</th>\n",
       "      <td>892</td>\n",
       "      <td>0</td>\n",
       "    </tr>\n",
       "    <tr>\n",
       "      <th>1</th>\n",
       "      <td>893</td>\n",
       "      <td>1</td>\n",
       "    </tr>\n",
       "    <tr>\n",
       "      <th>2</th>\n",
       "      <td>894</td>\n",
       "      <td>0</td>\n",
       "    </tr>\n",
       "    <tr>\n",
       "      <th>3</th>\n",
       "      <td>895</td>\n",
       "      <td>0</td>\n",
       "    </tr>\n",
       "    <tr>\n",
       "      <th>4</th>\n",
       "      <td>896</td>\n",
       "      <td>0</td>\n",
       "    </tr>\n",
       "  </tbody>\n",
       "</table>\n",
       "</div>"
      ],
      "text/plain": [
       "   PassengerID  Survived\n",
       "0          892         0\n",
       "1          893         1\n",
       "2          894         0\n",
       "3          895         0\n",
       "4          896         0"
      ]
     },
     "metadata": {},
     "output_type": "display_data"
    }
   ],
   "source": [
    "a.make_submission_file(y_test_pred, id_test)"
   ]
  }
 ],
 "metadata": {
  "kernelspec": {
   "display_name": "venv (3.10.10)",
   "language": "python",
   "name": "python3"
  },
  "language_info": {
   "codemirror_mode": {
    "name": "ipython",
    "version": 3
   },
   "file_extension": ".py",
   "mimetype": "text/x-python",
   "name": "python",
   "nbconvert_exporter": "python",
   "pygments_lexer": "ipython3",
   "version": "3.10.10"
  }
 },
 "nbformat": 4,
 "nbformat_minor": 5
}
